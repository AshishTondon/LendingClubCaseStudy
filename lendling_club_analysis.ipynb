{
 "cells": [
  {
   "cell_type": "markdown",
   "metadata": {},
   "source": [
    "# Lending Club Case Study\n",
    "*By Ashish Tondon and Uday kumar Kolluru*"
   ]
  },
  {
   "cell_type": "markdown",
   "metadata": {},
   "source": [
    "### Importing external modules"
   ]
  },
  {
   "cell_type": "code",
   "execution_count": 24,
   "metadata": {},
   "outputs": [],
   "source": [
    "import numpy as np\n",
    "import pandas as pd\n",
    "import matplotlib.pyplot as plt"
   ]
  },
  {
   "cell_type": "markdown",
   "metadata": {},
   "source": [
    "### Importing the data file"
   ]
  },
  {
   "cell_type": "code",
   "execution_count": 25,
   "metadata": {},
   "outputs": [
    {
     "name": "stderr",
     "output_type": "stream",
     "text": [
      "/tmp/ipykernel_14282/101281369.py:1: DtypeWarning: Columns (47) have mixed types. Specify dtype option on import or set low_memory=False.\n",
      "  loadData = pd.read_csv('loan.csv');\n"
     ]
    }
   ],
   "source": [
    "loadData = pd.read_csv('loan.csv');"
   ]
  },
  {
   "cell_type": "code",
   "execution_count": 26,
   "metadata": {},
   "outputs": [
    {
     "data": {
      "text/html": [
       "<div>\n",
       "<style scoped>\n",
       "    .dataframe tbody tr th:only-of-type {\n",
       "        vertical-align: middle;\n",
       "    }\n",
       "\n",
       "    .dataframe tbody tr th {\n",
       "        vertical-align: top;\n",
       "    }\n",
       "\n",
       "    .dataframe thead th {\n",
       "        text-align: right;\n",
       "    }\n",
       "</style>\n",
       "<table border=\"1\" class=\"dataframe\">\n",
       "  <thead>\n",
       "    <tr style=\"text-align: right;\">\n",
       "      <th></th>\n",
       "      <th>id</th>\n",
       "      <th>member_id</th>\n",
       "      <th>loan_amnt</th>\n",
       "      <th>funded_amnt</th>\n",
       "      <th>funded_amnt_inv</th>\n",
       "      <th>term</th>\n",
       "      <th>int_rate</th>\n",
       "      <th>installment</th>\n",
       "      <th>grade</th>\n",
       "      <th>sub_grade</th>\n",
       "      <th>...</th>\n",
       "      <th>num_tl_90g_dpd_24m</th>\n",
       "      <th>num_tl_op_past_12m</th>\n",
       "      <th>pct_tl_nvr_dlq</th>\n",
       "      <th>percent_bc_gt_75</th>\n",
       "      <th>pub_rec_bankruptcies</th>\n",
       "      <th>tax_liens</th>\n",
       "      <th>tot_hi_cred_lim</th>\n",
       "      <th>total_bal_ex_mort</th>\n",
       "      <th>total_bc_limit</th>\n",
       "      <th>total_il_high_credit_limit</th>\n",
       "    </tr>\n",
       "  </thead>\n",
       "  <tbody>\n",
       "    <tr>\n",
       "      <th>0</th>\n",
       "      <td>1077501</td>\n",
       "      <td>1296599</td>\n",
       "      <td>5000</td>\n",
       "      <td>5000</td>\n",
       "      <td>4975.0</td>\n",
       "      <td>36 months</td>\n",
       "      <td>10.65%</td>\n",
       "      <td>162.87</td>\n",
       "      <td>B</td>\n",
       "      <td>B2</td>\n",
       "      <td>...</td>\n",
       "      <td>NaN</td>\n",
       "      <td>NaN</td>\n",
       "      <td>NaN</td>\n",
       "      <td>NaN</td>\n",
       "      <td>0.0</td>\n",
       "      <td>0.0</td>\n",
       "      <td>NaN</td>\n",
       "      <td>NaN</td>\n",
       "      <td>NaN</td>\n",
       "      <td>NaN</td>\n",
       "    </tr>\n",
       "    <tr>\n",
       "      <th>1</th>\n",
       "      <td>1077430</td>\n",
       "      <td>1314167</td>\n",
       "      <td>2500</td>\n",
       "      <td>2500</td>\n",
       "      <td>2500.0</td>\n",
       "      <td>60 months</td>\n",
       "      <td>15.27%</td>\n",
       "      <td>59.83</td>\n",
       "      <td>C</td>\n",
       "      <td>C4</td>\n",
       "      <td>...</td>\n",
       "      <td>NaN</td>\n",
       "      <td>NaN</td>\n",
       "      <td>NaN</td>\n",
       "      <td>NaN</td>\n",
       "      <td>0.0</td>\n",
       "      <td>0.0</td>\n",
       "      <td>NaN</td>\n",
       "      <td>NaN</td>\n",
       "      <td>NaN</td>\n",
       "      <td>NaN</td>\n",
       "    </tr>\n",
       "    <tr>\n",
       "      <th>2</th>\n",
       "      <td>1077175</td>\n",
       "      <td>1313524</td>\n",
       "      <td>2400</td>\n",
       "      <td>2400</td>\n",
       "      <td>2400.0</td>\n",
       "      <td>36 months</td>\n",
       "      <td>15.96%</td>\n",
       "      <td>84.33</td>\n",
       "      <td>C</td>\n",
       "      <td>C5</td>\n",
       "      <td>...</td>\n",
       "      <td>NaN</td>\n",
       "      <td>NaN</td>\n",
       "      <td>NaN</td>\n",
       "      <td>NaN</td>\n",
       "      <td>0.0</td>\n",
       "      <td>0.0</td>\n",
       "      <td>NaN</td>\n",
       "      <td>NaN</td>\n",
       "      <td>NaN</td>\n",
       "      <td>NaN</td>\n",
       "    </tr>\n",
       "    <tr>\n",
       "      <th>3</th>\n",
       "      <td>1076863</td>\n",
       "      <td>1277178</td>\n",
       "      <td>10000</td>\n",
       "      <td>10000</td>\n",
       "      <td>10000.0</td>\n",
       "      <td>36 months</td>\n",
       "      <td>13.49%</td>\n",
       "      <td>339.31</td>\n",
       "      <td>C</td>\n",
       "      <td>C1</td>\n",
       "      <td>...</td>\n",
       "      <td>NaN</td>\n",
       "      <td>NaN</td>\n",
       "      <td>NaN</td>\n",
       "      <td>NaN</td>\n",
       "      <td>0.0</td>\n",
       "      <td>0.0</td>\n",
       "      <td>NaN</td>\n",
       "      <td>NaN</td>\n",
       "      <td>NaN</td>\n",
       "      <td>NaN</td>\n",
       "    </tr>\n",
       "    <tr>\n",
       "      <th>4</th>\n",
       "      <td>1075358</td>\n",
       "      <td>1311748</td>\n",
       "      <td>3000</td>\n",
       "      <td>3000</td>\n",
       "      <td>3000.0</td>\n",
       "      <td>60 months</td>\n",
       "      <td>12.69%</td>\n",
       "      <td>67.79</td>\n",
       "      <td>B</td>\n",
       "      <td>B5</td>\n",
       "      <td>...</td>\n",
       "      <td>NaN</td>\n",
       "      <td>NaN</td>\n",
       "      <td>NaN</td>\n",
       "      <td>NaN</td>\n",
       "      <td>0.0</td>\n",
       "      <td>0.0</td>\n",
       "      <td>NaN</td>\n",
       "      <td>NaN</td>\n",
       "      <td>NaN</td>\n",
       "      <td>NaN</td>\n",
       "    </tr>\n",
       "  </tbody>\n",
       "</table>\n",
       "<p>5 rows × 111 columns</p>\n",
       "</div>"
      ],
      "text/plain": [
       "        id  member_id  loan_amnt  funded_amnt  funded_amnt_inv        term  \\\n",
       "0  1077501    1296599       5000         5000           4975.0   36 months   \n",
       "1  1077430    1314167       2500         2500           2500.0   60 months   \n",
       "2  1077175    1313524       2400         2400           2400.0   36 months   \n",
       "3  1076863    1277178      10000        10000          10000.0   36 months   \n",
       "4  1075358    1311748       3000         3000           3000.0   60 months   \n",
       "\n",
       "  int_rate  installment grade sub_grade  ... num_tl_90g_dpd_24m  \\\n",
       "0   10.65%       162.87     B        B2  ...                NaN   \n",
       "1   15.27%        59.83     C        C4  ...                NaN   \n",
       "2   15.96%        84.33     C        C5  ...                NaN   \n",
       "3   13.49%       339.31     C        C1  ...                NaN   \n",
       "4   12.69%        67.79     B        B5  ...                NaN   \n",
       "\n",
       "  num_tl_op_past_12m pct_tl_nvr_dlq  percent_bc_gt_75 pub_rec_bankruptcies  \\\n",
       "0                NaN            NaN               NaN                  0.0   \n",
       "1                NaN            NaN               NaN                  0.0   \n",
       "2                NaN            NaN               NaN                  0.0   \n",
       "3                NaN            NaN               NaN                  0.0   \n",
       "4                NaN            NaN               NaN                  0.0   \n",
       "\n",
       "  tax_liens tot_hi_cred_lim total_bal_ex_mort total_bc_limit  \\\n",
       "0       0.0             NaN               NaN            NaN   \n",
       "1       0.0             NaN               NaN            NaN   \n",
       "2       0.0             NaN               NaN            NaN   \n",
       "3       0.0             NaN               NaN            NaN   \n",
       "4       0.0             NaN               NaN            NaN   \n",
       "\n",
       "  total_il_high_credit_limit  \n",
       "0                        NaN  \n",
       "1                        NaN  \n",
       "2                        NaN  \n",
       "3                        NaN  \n",
       "4                        NaN  \n",
       "\n",
       "[5 rows x 111 columns]"
      ]
     },
     "execution_count": 26,
     "metadata": {},
     "output_type": "execute_result"
    }
   ],
   "source": [
    "loadData.head()"
   ]
  },
  {
   "cell_type": "markdown",
   "metadata": {},
   "source": [
    "### Data Clean up"
   ]
  },
  {
   "cell_type": "markdown",
   "metadata": {},
   "source": [
    "**Analysing data having bank or no value**"
   ]
  },
  {
   "cell_type": "code",
   "execution_count": 27,
   "metadata": {},
   "outputs": [
    {
     "data": {
      "text/plain": [
       "54"
      ]
     },
     "execution_count": 27,
     "metadata": {},
     "output_type": "execute_result"
    }
   ],
   "source": [
    "# Detecting missing values in all columns\n",
    "info = loadData.isna().sum()\n",
    "\n",
    "# Checking for columns where all values are null\n",
    "info[info == loadData.shape[0]].count()"
   ]
  },
  {
   "cell_type": "markdown",
   "metadata": {},
   "source": [
    "54 columns in the dataframe have all missing values. Its better to delete them as they are of no use."
   ]
  },
  {
   "cell_type": "code",
   "execution_count": 28,
   "metadata": {},
   "outputs": [
    {
     "name": "stdout",
     "output_type": "stream",
     "text": [
      "Dropping because of all missing values in Columns ['mths_since_last_major_derog', 'annual_inc_joint', 'dti_joint', 'verification_status_joint', 'tot_coll_amt', 'tot_cur_bal', 'open_acc_6m', 'open_il_6m', 'open_il_12m', 'open_il_24m', 'mths_since_rcnt_il', 'total_bal_il', 'il_util', 'open_rv_12m', 'open_rv_24m', 'max_bal_bc', 'all_util', 'total_rev_hi_lim', 'inq_fi', 'total_cu_tl', 'inq_last_12m', 'acc_open_past_24mths', 'avg_cur_bal', 'bc_open_to_buy', 'bc_util', 'mo_sin_old_il_acct', 'mo_sin_old_rev_tl_op', 'mo_sin_rcnt_rev_tl_op', 'mo_sin_rcnt_tl', 'mort_acc', 'mths_since_recent_bc', 'mths_since_recent_bc_dlq', 'mths_since_recent_inq', 'mths_since_recent_revol_delinq', 'num_accts_ever_120_pd', 'num_actv_bc_tl', 'num_actv_rev_tl', 'num_bc_sats', 'num_bc_tl', 'num_il_tl', 'num_op_rev_tl', 'num_rev_accts', 'num_rev_tl_bal_gt_0', 'num_sats', 'num_tl_120dpd_2m', 'num_tl_30dpd', 'num_tl_90g_dpd_24m', 'num_tl_op_past_12m', 'pct_tl_nvr_dlq', 'percent_bc_gt_75', 'tot_hi_cred_lim', 'total_bal_ex_mort', 'total_bc_limit', 'total_il_high_credit_limit']\n"
     ]
    }
   ],
   "source": [
    "listOfColumnsWithAllMissingValues = list(info[info == loadData.shape[0]].index)\n",
    "\n",
    "print(\"Dropping because of all missing values in Columns\", str(listOfColumnsWithAllMissingValues))\n",
    "\n",
    "loadData.drop(columns=listOfColumnsWithAllMissingValues, inplace=True)"
   ]
  },
  {
   "cell_type": "markdown",
   "metadata": {},
   "source": [
    "Now Checking for columns which have above 40% of missing values. And We found 3 columns with above 64% of missing value. Dropping all three columns."
   ]
  },
  {
   "cell_type": "code",
   "execution_count": 29,
   "metadata": {},
   "outputs": [
    {
     "name": "stdout",
     "output_type": "stream",
     "text": [
      "Dropping because of more then 64% missing values in Columns ['mths_since_last_delinq', 'mths_since_last_record', 'next_pymnt_d']\n"
     ]
    }
   ],
   "source": [
    "percentageOfMissingValuesInEachColumn = (loadData.isna().sum()/loadData.shape[0]) * 100\n",
    "\n",
    "listOfColumnsWith40perMissingValues = list(percentageOfMissingValuesInEachColumn[percentageOfMissingValuesInEachColumn > 40].index)\n",
    "\n",
    "print(\"Dropping because of more then 64% missing values in Columns\", str(listOfColumnsWith40perMissingValues))\n",
    "\n",
    "loadData.drop(columns=listOfColumnsWith40perMissingValues, inplace=True)"
   ]
  },
  {
   "cell_type": "markdown",
   "metadata": {},
   "source": [
    "All Entries in *delinq_amnt* and *acc_now_delinq* columns are 0. So The column is of no use we can drop them."
   ]
  },
  {
   "cell_type": "code",
   "execution_count": 30,
   "metadata": {},
   "outputs": [],
   "source": [
    "listWithZeroValues = (loadData == 0).sum().sort_values(ascending=False)\n",
    "\n",
    "listOfColumnsWithAllZeroValues = listWithZeroValues[listWithZeroValues == loadData.shape[0]].index\n",
    "\n",
    "loadData.drop(columns=listOfColumnsWithAllZeroValues, inplace=True)"
   ]
  },
  {
   "cell_type": "markdown",
   "metadata": {},
   "source": [
    "Remaining Columns with most entries are 0"
   ]
  },
  {
   "cell_type": "code",
   "execution_count": 31,
   "metadata": {},
   "outputs": [
    {
     "data": {
      "text/plain": [
       "tax_liens                     39678\n",
       "chargeoff_within_12_mths      39661\n",
       "collections_12_mths_ex_med    39661\n",
       "out_prncp                     38577\n",
       "out_prncp_inv                 38577\n",
       "total_rec_late_fee            37671\n",
       "pub_rec                       37601\n",
       "pub_rec_bankruptcies          37339\n",
       "collection_recovery_fee       35935\n",
       "recoveries                    35499\n",
       "delinq_2yrs                   35405\n",
       "inq_last_6mths                19300\n",
       "revol_bal                       994\n",
       "dti                             183\n",
       "total_pymnt_inv                 165\n",
       "funded_amnt_inv                 129\n",
       "last_pymnt_amnt                  74\n",
       "total_rec_prncp                  74\n",
       "total_rec_int                    71\n",
       "total_pymnt                      16\n",
       "last_pymnt_d                      0\n",
       "open_acc                          0\n",
       "last_credit_pull_d                0\n",
       "policy_code                       0\n",
       "initial_list_status               0\n",
       "total_acc                         0\n",
       "revol_util                        0\n",
       "application_type                  0\n",
       "id                                0\n",
       "member_id                         0\n",
       "home_ownership                    0\n",
       "loan_amnt                         0\n",
       "funded_amnt                       0\n",
       "term                              0\n",
       "int_rate                          0\n",
       "installment                       0\n",
       "grade                             0\n",
       "sub_grade                         0\n",
       "emp_title                         0\n",
       "emp_length                        0\n",
       "annual_inc                        0\n",
       "addr_state                        0\n",
       "verification_status               0\n",
       "issue_d                           0\n",
       "loan_status                       0\n",
       "pymnt_plan                        0\n",
       "url                               0\n",
       "desc                              0\n",
       "purpose                           0\n",
       "title                             0\n",
       "zip_code                          0\n",
       "earliest_cr_line                  0\n",
       "dtype: int64"
      ]
     },
     "execution_count": 31,
     "metadata": {},
     "output_type": "execute_result"
    }
   ],
   "source": [
    "\n",
    "(loadData == 0).sum().sort_values(ascending=False)"
   ]
  },
  {
   "cell_type": "markdown",
   "metadata": {},
   "source": [
    "Colums tax_liens, chargeoff_within_12_mths, collections_12_mths_ex_med mostly have 0 and missing values only. So better to drop them. As these are of no use."
   ]
  },
  {
   "cell_type": "code",
   "execution_count": 32,
   "metadata": {},
   "outputs": [],
   "source": [
    "# loadData[[\"tax_liens\", \"chargeoff_within_12_mths\", \"collections_12_mths_ex_med\"]].isna().sum(), (loadData[[\"tax_liens\", \"chargeoff_within_12_mths\", \"collections_12_mths_ex_med\"]] == 0).sum()\n",
    "loadData.drop(columns=[\"tax_liens\", \"chargeoff_within_12_mths\", \"collections_12_mths_ex_med\"], inplace=True)"
   ]
  },
  {
   "cell_type": "code",
   "execution_count": 33,
   "metadata": {},
   "outputs": [
    {
     "data": {
      "text/plain": [
       "initial_list_status\n",
       "f    39717\n",
       "Name: id, dtype: int64"
      ]
     },
     "execution_count": 33,
     "metadata": {},
     "output_type": "execute_result"
    }
   ],
   "source": [
    "loadData.groupby(\"initial_list_status\").id.count()"
   ]
  },
  {
   "cell_type": "markdown",
   "metadata": {},
   "source": [
    "**We found following details:**\n",
    "1. Column 'policy_code' repeating value '1' in all rows. It means all uses \"Publicly available policy\".\n",
    "2. Column 'application_type' repeating value 'INDIVIDUAL' in all rows. It means all borrows in the dataset are Individual borrowers.\n",
    "3. Column 'pymnt_plan' repeating value 'n' in all rows. It means all borrows in the dataset opting for same borrowing plan.\n",
    "4. Column 'initial_list_status' repeating value 'f' in all rows. It means all borrows in the dataset have same initial listing status."
   ]
  },
  {
   "cell_type": "markdown",
   "metadata": {},
   "source": [
    "As all rows have same value for columns policy_code, application_type, pymnt_plan, initial_list_status. And We already noted the informations these columns can provide above. Now we can drop these columns as well. As these column can not provide any other information in further analysis."
   ]
  },
  {
   "cell_type": "code",
   "execution_count": 34,
   "metadata": {},
   "outputs": [],
   "source": [
    "loadData.drop(columns=[\"policy_code\", \"application_type\", \"pymnt_plan\", \"initial_list_status\"], inplace=True)"
   ]
  },
  {
   "cell_type": "markdown",
   "metadata": {},
   "source": [
    "**url** column contains account link like https://lendingclub.com/browse/loanDetail.action?loan_id=<loan_id> this column will not help us in further analysis. We are dropping the column."
   ]
  },
  {
   "cell_type": "code",
   "execution_count": 35,
   "metadata": {},
   "outputs": [],
   "source": [
    "loadData.drop(columns=[\"url\"], inplace=True)"
   ]
  },
  {
   "cell_type": "markdown",
   "metadata": {},
   "source": [
    "Following ate transactional columns which is used as identifier of a loan or borrow. We do not need these columns in futher analysis.\n",
    "1. id\n",
    "2. member_id"
   ]
  },
  {
   "cell_type": "code",
   "execution_count": 36,
   "metadata": {},
   "outputs": [],
   "source": [
    "loadData.drop(columns=[\"id\", \"member_id\"], inplace=True)"
   ]
  },
  {
   "cell_type": "code",
   "execution_count": 69,
   "metadata": {},
   "outputs": [
    {
     "data": {
      "text/plain": [
       "(39717, 42)"
      ]
     },
     "execution_count": 69,
     "metadata": {},
     "output_type": "execute_result"
    }
   ],
   "source": [
    "loadData.shape"
   ]
  },
  {
   "cell_type": "code",
   "execution_count": 70,
   "metadata": {},
   "outputs": [
    {
     "data": {
      "text/plain": [
       "Index(['loan_amnt', 'funded_amnt', 'funded_amnt_inv', 'term', 'int_rate',\n",
       "       'installment', 'grade', 'sub_grade', 'emp_title', 'emp_length',\n",
       "       'home_ownership', 'annual_inc', 'verification_status', 'issue_d',\n",
       "       'loan_status', 'desc', 'purpose', 'title', 'zip_code', 'addr_state',\n",
       "       'dti', 'delinq_2yrs', 'earliest_cr_line', 'inq_last_6mths', 'open_acc',\n",
       "       'pub_rec', 'revol_bal', 'revol_util', 'total_acc', 'out_prncp',\n",
       "       'out_prncp_inv', 'total_pymnt', 'total_pymnt_inv', 'total_rec_prncp',\n",
       "       'total_rec_int', 'total_rec_late_fee', 'recoveries',\n",
       "       'collection_recovery_fee', 'last_pymnt_d', 'last_pymnt_amnt',\n",
       "       'last_credit_pull_d', 'pub_rec_bankruptcies'],\n",
       "      dtype='object')"
      ]
     },
     "execution_count": 70,
     "metadata": {},
     "output_type": "execute_result"
    }
   ],
   "source": [
    "loadData.columns"
   ]
  },
  {
   "cell_type": "markdown",
   "metadata": {},
   "source": [
    "### Data Analysis"
   ]
  },
  {
   "cell_type": "markdown",
   "metadata": {},
   "source": [
    "### Breaking Attributes as per following types:\n",
    "1. Consumer Attributes: Column provides customer information.<br>\n",
    "   > emp_title, emp_length, home_ownership, annual_inc, verification_status, zip_code, addr_state, dti, delinq_2yrs, earliest_cr_line, inq_last_6mths, open_acc, pub_rec, total_acc, pub_rec_bankruptcies\n",
    "   \n",
    "2. Loan Attributes: Column provides loan information.<br>\n",
    "   > loan_amnt, funded_amnt, funded_amnt_inv, term, int_rate, installment, grade, sub_grade, issue_d, loan_status, desc, purpose, title, revol_bal, revol_util, out_prncp, out_prncp_inv, total_pymnt, total_pymnt_inv, total_rec_prncp, total_rec_int, total_rec_late_fee, recoveries, collection_recovery_fee, last_pymnt_d, last_pymnt_amnt, last_credit_pull_d, "
   ]
  },
  {
   "cell_type": "markdown",
   "metadata": {},
   "source": []
  },
  {
   "cell_type": "code",
   "execution_count": 38,
   "metadata": {},
   "outputs": [
    {
     "data": {
      "text/plain": [
       "Index(['loan_amnt', 'funded_amnt', 'funded_amnt_inv', 'term', 'int_rate',\n",
       "       'installment', 'grade', 'sub_grade', 'emp_title', 'emp_length',\n",
       "       'home_ownership', 'annual_inc', 'verification_status', 'issue_d',\n",
       "       'loan_status', 'desc', 'purpose', 'title', 'zip_code', 'addr_state',\n",
       "       'dti', 'delinq_2yrs', 'earliest_cr_line', 'inq_last_6mths', 'open_acc',\n",
       "       'pub_rec', 'revol_bal', 'revol_util', 'total_acc', 'out_prncp',\n",
       "       'out_prncp_inv', 'total_pymnt', 'total_pymnt_inv', 'total_rec_prncp',\n",
       "       'total_rec_int', 'total_rec_late_fee', 'recoveries',\n",
       "       'collection_recovery_fee', 'last_pymnt_d', 'last_pymnt_amnt',\n",
       "       'last_credit_pull_d', 'pub_rec_bankruptcies'],\n",
       "      dtype='object')"
      ]
     },
     "execution_count": 38,
     "metadata": {},
     "output_type": "execute_result"
    }
   ],
   "source": [
    "# (loadData == 1).sum().sort_values(ascending=False)\n",
    "# policy_code = 1, application_type = INDIVIDUAL, pymnt_plan = n, initial_list_status = f\n",
    "# loadData.groupby(\"issue_d\").count()\n",
    "\n",
    "loadData.columns"
   ]
  },
  {
   "cell_type": "code",
   "execution_count": 39,
   "metadata": {},
   "outputs": [
    {
     "name": "stderr",
     "output_type": "stream",
     "text": [
      "/tmp/ipykernel_14282/2912562689.py:12: SettingWithCopyWarning: \n",
      "A value is trying to be set on a copy of a slice from a DataFrame.\n",
      "Try using .loc[row_indexer,col_indexer] = value instead\n",
      "\n",
      "See the caveats in the documentation: https://pandas.pydata.org/pandas-docs/stable/user_guide/indexing.html#returning-a-view-versus-a-copy\n",
      "  newtab[\"Total\"] = loadData.grade.value_counts().sort_index().values\n",
      "/tmp/ipykernel_14282/2912562689.py:14: SettingWithCopyWarning: \n",
      "A value is trying to be set on a copy of a slice from a DataFrame.\n",
      "Try using .loc[row_indexer,col_indexer] = value instead\n",
      "\n",
      "See the caveats in the documentation: https://pandas.pydata.org/pandas-docs/stable/user_guide/indexing.html#returning-a-view-versus-a-copy\n",
      "  newtab[\"percent\"] = newtab.apply(lambda row: round((row.addr_state/row.Total) * 100,2), axis=1)\n"
     ]
    },
    {
     "data": {
      "text/html": [
       "<div>\n",
       "<style scoped>\n",
       "    .dataframe tbody tr th:only-of-type {\n",
       "        vertical-align: middle;\n",
       "    }\n",
       "\n",
       "    .dataframe tbody tr th {\n",
       "        vertical-align: top;\n",
       "    }\n",
       "\n",
       "    .dataframe thead th {\n",
       "        text-align: right;\n",
       "    }\n",
       "</style>\n",
       "<table border=\"1\" class=\"dataframe\">\n",
       "  <thead>\n",
       "    <tr style=\"text-align: right;\">\n",
       "      <th></th>\n",
       "      <th>loan_status</th>\n",
       "      <th>grade</th>\n",
       "      <th>addr_state</th>\n",
       "      <th>Total</th>\n",
       "      <th>percent</th>\n",
       "    </tr>\n",
       "  </thead>\n",
       "  <tbody>\n",
       "    <tr>\n",
       "      <th>0</th>\n",
       "      <td>Charged Off</td>\n",
       "      <td>A</td>\n",
       "      <td>602</td>\n",
       "      <td>10085</td>\n",
       "      <td>5.97</td>\n",
       "    </tr>\n",
       "    <tr>\n",
       "      <th>1</th>\n",
       "      <td>Charged Off</td>\n",
       "      <td>B</td>\n",
       "      <td>1425</td>\n",
       "      <td>12020</td>\n",
       "      <td>11.86</td>\n",
       "    </tr>\n",
       "    <tr>\n",
       "      <th>2</th>\n",
       "      <td>Charged Off</td>\n",
       "      <td>C</td>\n",
       "      <td>1347</td>\n",
       "      <td>8098</td>\n",
       "      <td>16.63</td>\n",
       "    </tr>\n",
       "    <tr>\n",
       "      <th>3</th>\n",
       "      <td>Charged Off</td>\n",
       "      <td>D</td>\n",
       "      <td>1118</td>\n",
       "      <td>5307</td>\n",
       "      <td>21.07</td>\n",
       "    </tr>\n",
       "    <tr>\n",
       "      <th>4</th>\n",
       "      <td>Charged Off</td>\n",
       "      <td>E</td>\n",
       "      <td>715</td>\n",
       "      <td>2842</td>\n",
       "      <td>25.16</td>\n",
       "    </tr>\n",
       "    <tr>\n",
       "      <th>5</th>\n",
       "      <td>Charged Off</td>\n",
       "      <td>F</td>\n",
       "      <td>319</td>\n",
       "      <td>1049</td>\n",
       "      <td>30.41</td>\n",
       "    </tr>\n",
       "    <tr>\n",
       "      <th>6</th>\n",
       "      <td>Charged Off</td>\n",
       "      <td>G</td>\n",
       "      <td>101</td>\n",
       "      <td>316</td>\n",
       "      <td>31.96</td>\n",
       "    </tr>\n",
       "  </tbody>\n",
       "</table>\n",
       "</div>"
      ],
      "text/plain": [
       "   loan_status grade  addr_state  Total  percent\n",
       "0  Charged Off     A         602  10085     5.97\n",
       "1  Charged Off     B        1425  12020    11.86\n",
       "2  Charged Off     C        1347   8098    16.63\n",
       "3  Charged Off     D        1118   5307    21.07\n",
       "4  Charged Off     E         715   2842    25.16\n",
       "5  Charged Off     F         319   1049    30.41\n",
       "6  Charged Off     G         101    316    31.96"
      ]
     },
     "execution_count": 39,
     "metadata": {},
     "output_type": "execute_result"
    }
   ],
   "source": [
    "# loadData.groupby(\"loan_status\").id.count()\n",
    "\n",
    "# loadData[[\"loan_status\", \"loan_status\"]].plot.bar()\n",
    "# loadData.grade.value_counts().sort_index().values \n",
    "# \n",
    "table = pd.pivot_table(data=loadData, index=[\"loan_status\", \"grade\"], values=[\"addr_state\"], aggfunc=\"count\")\n",
    "\n",
    "newtab = table[table.index.get_level_values('loan_status') == \"Charged Off\"]\n",
    "# table.index[:,0]\n",
    "# newtab = table.loc[table.index[:,0] == \"Charged Off\"]\n",
    "\n",
    "newtab[\"Total\"] = loadData.grade.value_counts().sort_index().values \n",
    "\n",
    "newtab[\"percent\"] = newtab.apply(lambda row: round((row.addr_state/row.Total) * 100,2), axis=1)\n",
    "\n",
    "newtab.reset_index(inplace=True)\n",
    "\n",
    "newtab"
   ]
  },
  {
   "cell_type": "code",
   "execution_count": 40,
   "metadata": {},
   "outputs": [
    {
     "data": {
      "image/png": "[encoded data removed]",
      "text/plain": [
       "<Figure size 640x480 with 1 Axes>"
      ]
     },
     "metadata": {},
     "output_type": "display_data"
    }
   ],
   "source": [
    "plt.bar(data=newtab, x=\"grade\", height=\"percent\")\n",
    "plt.xlabel(\"Grade\")\n",
    "plt.ylabel(\"Charged off Percentage\")\n",
    "plt.title(\"Charged off Percentages by loan grade\")\n",
    "# plt.xticks(xticks=\"Grade\")\n",
    "# plt.xticks(xticks=\"Percentage\")\n",
    "plt.show()"
   ]
  },
  {
   "cell_type": "code",
   "execution_count": 41,
   "metadata": {},
   "outputs": [],
   "source": [
    "loadData[\"int_rate\"] = loadData.int_rate.apply(lambda rate: float(rate.replace(\"%\", \"\")))"
   ]
  },
  {
   "cell_type": "code",
   "execution_count": 72,
   "metadata": {},
   "outputs": [
    {
     "data": {
      "text/html": [
       "<div>\n",
       "<style scoped>\n",
       "    .dataframe tbody tr th:only-of-type {\n",
       "        vertical-align: middle;\n",
       "    }\n",
       "\n",
       "    .dataframe tbody tr th {\n",
       "        vertical-align: top;\n",
       "    }\n",
       "\n",
       "    .dataframe thead th {\n",
       "        text-align: right;\n",
       "    }\n",
       "</style>\n",
       "<table border=\"1\" class=\"dataframe\">\n",
       "  <thead>\n",
       "    <tr style=\"text-align: right;\">\n",
       "      <th></th>\n",
       "      <th>int_rate</th>\n",
       "      <th>loan_status</th>\n",
       "      <th>count</th>\n",
       "    </tr>\n",
       "  </thead>\n",
       "  <tbody>\n",
       "    <tr>\n",
       "      <th>0</th>\n",
       "      <td>5.42</td>\n",
       "      <td>Fully Paid</td>\n",
       "      <td>553</td>\n",
       "    </tr>\n",
       "    <tr>\n",
       "      <th>1</th>\n",
       "      <td>5.42</td>\n",
       "      <td>Charged Off</td>\n",
       "      <td>20</td>\n",
       "    </tr>\n",
       "    <tr>\n",
       "      <th>2</th>\n",
       "      <td>5.79</td>\n",
       "      <td>Fully Paid</td>\n",
       "      <td>394</td>\n",
       "    </tr>\n",
       "    <tr>\n",
       "      <th>3</th>\n",
       "      <td>5.79</td>\n",
       "      <td>Charged Off</td>\n",
       "      <td>16</td>\n",
       "    </tr>\n",
       "    <tr>\n",
       "      <th>4</th>\n",
       "      <td>5.99</td>\n",
       "      <td>Fully Paid</td>\n",
       "      <td>328</td>\n",
       "    </tr>\n",
       "    <tr>\n",
       "      <th>...</th>\n",
       "      <td>...</td>\n",
       "      <td>...</td>\n",
       "      <td>...</td>\n",
       "    </tr>\n",
       "    <tr>\n",
       "      <th>755</th>\n",
       "      <td>23.91</td>\n",
       "      <td>Current</td>\n",
       "      <td>2</td>\n",
       "    </tr>\n",
       "    <tr>\n",
       "      <th>756</th>\n",
       "      <td>24.11</td>\n",
       "      <td>Fully Paid</td>\n",
       "      <td>2</td>\n",
       "    </tr>\n",
       "    <tr>\n",
       "      <th>757</th>\n",
       "      <td>24.11</td>\n",
       "      <td>Charged Off</td>\n",
       "      <td>1</td>\n",
       "    </tr>\n",
       "    <tr>\n",
       "      <th>758</th>\n",
       "      <td>24.40</td>\n",
       "      <td>Charged Off</td>\n",
       "      <td>1</td>\n",
       "    </tr>\n",
       "    <tr>\n",
       "      <th>759</th>\n",
       "      <td>24.59</td>\n",
       "      <td>Current</td>\n",
       "      <td>1</td>\n",
       "    </tr>\n",
       "  </tbody>\n",
       "</table>\n",
       "<p>760 rows × 3 columns</p>\n",
       "</div>"
      ],
      "text/plain": [
       "     int_rate  loan_status  count\n",
       "0        5.42   Fully Paid    553\n",
       "1        5.42  Charged Off     20\n",
       "2        5.79   Fully Paid    394\n",
       "3        5.79  Charged Off     16\n",
       "4        5.99   Fully Paid    328\n",
       "..        ...          ...    ...\n",
       "755     23.91      Current      2\n",
       "756     24.11   Fully Paid      2\n",
       "757     24.11  Charged Off      1\n",
       "758     24.40  Charged Off      1\n",
       "759     24.59      Current      1\n",
       "\n",
       "[760 rows x 3 columns]"
      ]
     },
     "execution_count": 72,
     "metadata": {},
     "output_type": "execute_result"
    }
   ],
   "source": [
    "\n",
    "loan_rate = loadData.groupby(\"int_rate\").loan_status.value_counts().reset_index()\n",
    "loan_rate"
   ]
  },
  {
   "cell_type": "code",
   "execution_count": 78,
   "metadata": {},
   "outputs": [
    {
     "name": "stderr",
     "output_type": "stream",
     "text": [
      "/tmp/ipykernel_14282/2515104678.py:1: FutureWarning: The provided callable <function sum at 0x70710837b760> is currently using DataFrameGroupBy.sum. In a future version of pandas, the provided callable will be used directly. To keep current behavior pass the string \"sum\" instead.\n",
      "  new_tab = pd.pivot_table(data=loan_rate, values=\"count\", index=\"int_rate\", columns=\"loan_status\", fill_value=0, margins=True, aggfunc=np.sum)\n",
      "/tmp/ipykernel_14282/2515104678.py:1: FutureWarning: The provided callable <function sum at 0x70710837b760> is currently using DataFrameGroupBy.sum. In a future version of pandas, the provided callable will be used directly. To keep current behavior pass the string \"sum\" instead.\n",
      "  new_tab = pd.pivot_table(data=loan_rate, values=\"count\", index=\"int_rate\", columns=\"loan_status\", fill_value=0, margins=True, aggfunc=np.sum)\n",
      "/tmp/ipykernel_14282/2515104678.py:1: FutureWarning: The provided callable <function sum at 0x70710837b760> is currently using DataFrameGroupBy.sum. In a future version of pandas, the provided callable will be used directly. To keep current behavior pass the string \"sum\" instead.\n",
      "  new_tab = pd.pivot_table(data=loan_rate, values=\"count\", index=\"int_rate\", columns=\"loan_status\", fill_value=0, margins=True, aggfunc=np.sum)\n"
     ]
    },
    {
     "data": {
      "image/png": "[encoded data removed]",
      "text/plain": [
       "<Figure size 640x480 with 1 Axes>"
      ]
     },
     "metadata": {},
     "output_type": "display_data"
    }
   ],
   "source": [
    "new_tab = pd.pivot_table(data=loan_rate, values=\"count\", index=\"int_rate\", columns=\"loan_status\", fill_value=0, margins=True, aggfunc=np.sum)\n",
    "\n",
    "new_tab[\"Charged Off\"] = new_tab.apply(lambda row: round((row[\"Charged Off\"]/row[\"All\"])*100, 2), axis=1)\n",
    "new_tab[\"Current\"] = new_tab.apply(lambda row: round((row[\"Current\"]/row[\"All\"])*100, 2), axis=1)\n",
    "new_tab[\"Fully Paid\"] = new_tab.apply(lambda row: round((row[\"Fully Paid\"]/row[\"All\"])*100, 2), axis=1)\n",
    "\n",
    "new_tab.drop(labels=[\"All\", \"Fully Paid\"], axis=1, inplace=True)\n",
    "\n",
    "# new_tab\n",
    "\n",
    "new_tab.plot.area()\n",
    "\n",
    "plt.xlabel(\"Interest Rate\")\n",
    "plt.ylabel(\"Percentage\")\n",
    "plt.title(\"Percentage of Charged off and Current loans on the bases of interest rate\")\n",
    "\n",
    "plt.show()"
   ]
  },
  {
   "cell_type": "code",
   "execution_count": 62,
   "metadata": {},
   "outputs": [
    {
     "name": "stderr",
     "output_type": "stream",
     "text": [
      "/tmp/ipykernel_14282/1523213485.py:3: FutureWarning: The provided callable <function sum at 0x70710837b760> is currently using DataFrameGroupBy.sum. In a future version of pandas, the provided callable will be used directly. To keep current behavior pass the string \"sum\" instead.\n",
      "  new_tab1 = pd.pivot_table(data=loadData.groupby(\"term\").loan_status.value_counts().reset_index(), values=\"count\", index=\"term\", columns=\"loan_status\", fill_value=0, margins=True, aggfunc=np.sum)\n",
      "/tmp/ipykernel_14282/1523213485.py:3: FutureWarning: The provided callable <function sum at 0x70710837b760> is currently using DataFrameGroupBy.sum. In a future version of pandas, the provided callable will be used directly. To keep current behavior pass the string \"sum\" instead.\n",
      "  new_tab1 = pd.pivot_table(data=loadData.groupby(\"term\").loan_status.value_counts().reset_index(), values=\"count\", index=\"term\", columns=\"loan_status\", fill_value=0, margins=True, aggfunc=np.sum)\n",
      "/tmp/ipykernel_14282/1523213485.py:3: FutureWarning: The provided callable <function sum at 0x70710837b760> is currently using DataFrameGroupBy.sum. In a future version of pandas, the provided callable will be used directly. To keep current behavior pass the string \"sum\" instead.\n",
      "  new_tab1 = pd.pivot_table(data=loadData.groupby(\"term\").loan_status.value_counts().reset_index(), values=\"count\", index=\"term\", columns=\"loan_status\", fill_value=0, margins=True, aggfunc=np.sum)\n"
     ]
    },
    {
     "data": {
      "image/png": "[encoded data removed]",
      "text/plain": [
       "<Figure size 640x480 with 1 Axes>"
      ]
     },
     "metadata": {},
     "output_type": "display_data"
    }
   ],
   "source": [
    "loadData.groupby(\"term\").loan_status.value_counts().reset_index()\n",
    "\n",
    "new_tab1 = pd.pivot_table(data=loadData.groupby(\"term\").loan_status.value_counts().reset_index(), values=\"count\", index=\"term\", columns=\"loan_status\", fill_value=0, margins=True, aggfunc=np.sum)\n",
    "\n",
    "new_tab1[\"Charged Off\"] = new_tab1.apply(lambda row: round((row[\"Charged Off\"]/row[\"All\"])*100, 2), axis=1)\n",
    "new_tab1[\"Current\"] = new_tab1.apply(lambda row: round((row[\"Current\"]/row[\"All\"])*100, 2), axis=1)\n",
    "new_tab1[\"Fully Paid\"] = new_tab1.apply(lambda row: round((row[\"Fully Paid\"]/row[\"All\"])*100, 2), axis=1)\n",
    "\n",
    "new_tab1.drop(labels=[\"All\"], axis=1, inplace=True)\n",
    "\n",
    "new_tab1.plot.bar()\n",
    "\n",
    "plt.xlabel(\"Loan Term\")\n",
    "plt.ylabel(\"Percentage\")\n",
    "plt.title(\"Percentage of Charged off and Current loans on the bases of interest rate\")\n",
    "\n",
    "plt.show()"
   ]
  },
  {
   "cell_type": "code",
   "execution_count": 80,
   "metadata": {},
   "outputs": [
    {
     "name": "stderr",
     "output_type": "stream",
     "text": [
      "/tmp/ipykernel_14282/1724439534.py:3: FutureWarning: The provided callable <function sum at 0x70710837b760> is currently using DataFrameGroupBy.sum. In a future version of pandas, the provided callable will be used directly. To keep current behavior pass the string \"sum\" instead.\n",
      "  new_tab1 = pd.pivot_table(data=loadData.groupby(\"home_ownership\").loan_status.value_counts().reset_index(), values=\"count\", index=\"home_ownership\", columns=\"loan_status\", fill_value=0, margins=True, aggfunc=np.sum)\n",
      "/tmp/ipykernel_14282/1724439534.py:3: FutureWarning: The provided callable <function sum at 0x70710837b760> is currently using DataFrameGroupBy.sum. In a future version of pandas, the provided callable will be used directly. To keep current behavior pass the string \"sum\" instead.\n",
      "  new_tab1 = pd.pivot_table(data=loadData.groupby(\"home_ownership\").loan_status.value_counts().reset_index(), values=\"count\", index=\"home_ownership\", columns=\"loan_status\", fill_value=0, margins=True, aggfunc=np.sum)\n",
      "/tmp/ipykernel_14282/1724439534.py:3: FutureWarning: The provided callable <function sum at 0x70710837b760> is currently using DataFrameGroupBy.sum. In a future version of pandas, the provided callable will be used directly. To keep current behavior pass the string \"sum\" instead.\n",
      "  new_tab1 = pd.pivot_table(data=loadData.groupby(\"home_ownership\").loan_status.value_counts().reset_index(), values=\"count\", index=\"home_ownership\", columns=\"loan_status\", fill_value=0, margins=True, aggfunc=np.sum)\n"
     ]
    },
    {
     "data": {
      "image/png": "[encoded data removed]",
      "text/plain": [
       "<Figure size 640x480 with 1 Axes>"
      ]
     },
     "metadata": {},
     "output_type": "display_data"
    }
   ],
   "source": [
    "loadData.groupby(\"home_ownership\").loan_status.value_counts().reset_index()\n",
    "\n",
    "new_tab1 = pd.pivot_table(data=loadData.groupby(\"home_ownership\").loan_status.value_counts().reset_index(), values=\"count\", index=\"home_ownership\", columns=\"loan_status\", fill_value=0, margins=True, aggfunc=np.sum)\n",
    "\n",
    "new_tab1[\"Charged Off\"] = new_tab1.apply(lambda row: round((row[\"Charged Off\"]/row[\"All\"])*100, 2), axis=1)\n",
    "new_tab1[\"Current\"] = new_tab1.apply(lambda row: round((row[\"Current\"]/row[\"All\"])*100, 2), axis=1)\n",
    "# new_tab1[\"Fully Paid\"] = new_tab1.apply(lambda row: round((row[\"Fully Paid\"]/row[\"All\"])*100, 2), axis=1)\n",
    "\n",
    "new_tab1.drop(labels=[\"All\", \"Fully Paid\"], axis=1, inplace=True)\n",
    "\n",
    "new_tab1.plot.bar()\n",
    "\n",
    "plt.xlabel(\"Loan Term\")\n",
    "plt.ylabel(\"Percentage\")\n",
    "plt.title(\"Percentage of Charged off and Current loans on the bases of interest rate\")\n",
    "\n",
    "plt.show()"
   ]
  },
  {
   "cell_type": "code",
   "execution_count": 68,
   "metadata": {},
   "outputs": [
    {
     "name": "stderr",
     "output_type": "stream",
     "text": [
      "/tmp/ipykernel_14282/662191935.py:3: FutureWarning: The provided callable <function sum at 0x70710837b760> is currently using DataFrameGroupBy.sum. In a future version of pandas, the provided callable will be used directly. To keep current behavior pass the string \"sum\" instead.\n",
      "  new_tab1 = pd.pivot_table(data=loadData.groupby(\"verification_status\").loan_status.value_counts().reset_index(), values=\"count\", index=\"verification_status\", columns=\"loan_status\", fill_value=0, margins=True, aggfunc=np.sum)\n",
      "/tmp/ipykernel_14282/662191935.py:3: FutureWarning: The provided callable <function sum at 0x70710837b760> is currently using DataFrameGroupBy.sum. In a future version of pandas, the provided callable will be used directly. To keep current behavior pass the string \"sum\" instead.\n",
      "  new_tab1 = pd.pivot_table(data=loadData.groupby(\"verification_status\").loan_status.value_counts().reset_index(), values=\"count\", index=\"verification_status\", columns=\"loan_status\", fill_value=0, margins=True, aggfunc=np.sum)\n",
      "/tmp/ipykernel_14282/662191935.py:3: FutureWarning: The provided callable <function sum at 0x70710837b760> is currently using DataFrameGroupBy.sum. In a future version of pandas, the provided callable will be used directly. To keep current behavior pass the string \"sum\" instead.\n",
      "  new_tab1 = pd.pivot_table(data=loadData.groupby(\"verification_status\").loan_status.value_counts().reset_index(), values=\"count\", index=\"verification_status\", columns=\"loan_status\", fill_value=0, margins=True, aggfunc=np.sum)\n"
     ]
    },
    {
     "data": {
      "text/html": [
       "<div>\n",
       "<style scoped>\n",
       "    .dataframe tbody tr th:only-of-type {\n",
       "        vertical-align: middle;\n",
       "    }\n",
       "\n",
       "    .dataframe tbody tr th {\n",
       "        vertical-align: top;\n",
       "    }\n",
       "\n",
       "    .dataframe thead th {\n",
       "        text-align: right;\n",
       "    }\n",
       "</style>\n",
       "<table border=\"1\" class=\"dataframe\">\n",
       "  <thead>\n",
       "    <tr style=\"text-align: right;\">\n",
       "      <th>loan_status</th>\n",
       "      <th>Charged Off</th>\n",
       "      <th>Current</th>\n",
       "      <th>Fully Paid</th>\n",
       "      <th>All</th>\n",
       "    </tr>\n",
       "    <tr>\n",
       "      <th>verification_status</th>\n",
       "      <th></th>\n",
       "      <th></th>\n",
       "      <th></th>\n",
       "      <th></th>\n",
       "    </tr>\n",
       "  </thead>\n",
       "  <tbody>\n",
       "    <tr>\n",
       "      <th>Not Verified</th>\n",
       "      <td>12.66</td>\n",
       "      <td>1.34</td>\n",
       "      <td>14552</td>\n",
       "      <td>16921</td>\n",
       "    </tr>\n",
       "    <tr>\n",
       "      <th>Source Verified</th>\n",
       "      <td>14.36</td>\n",
       "      <td>3.10</td>\n",
       "      <td>8243</td>\n",
       "      <td>9987</td>\n",
       "    </tr>\n",
       "    <tr>\n",
       "      <th>Verified</th>\n",
       "      <td>16.01</td>\n",
       "      <td>4.71</td>\n",
       "      <td>10155</td>\n",
       "      <td>12809</td>\n",
       "    </tr>\n",
       "    <tr>\n",
       "      <th>All</th>\n",
       "      <td>14.17</td>\n",
       "      <td>2.87</td>\n",
       "      <td>32950</td>\n",
       "      <td>39717</td>\n",
       "    </tr>\n",
       "  </tbody>\n",
       "</table>\n",
       "</div>"
      ],
      "text/plain": [
       "loan_status          Charged Off  Current  Fully Paid    All\n",
       "verification_status                                         \n",
       "Not Verified               12.66     1.34       14552  16921\n",
       "Source Verified            14.36     3.10        8243   9987\n",
       "Verified                   16.01     4.71       10155  12809\n",
       "All                        14.17     2.87       32950  39717"
      ]
     },
     "execution_count": 68,
     "metadata": {},
     "output_type": "execute_result"
    }
   ],
   "source": [
    "loadData.groupby(\"verification_status\").loan_status.value_counts().reset_index()\n",
    "\n",
    "new_tab1 = pd.pivot_table(data=loadData.groupby(\"verification_status\").loan_status.value_counts().reset_index(), values=\"count\", index=\"verification_status\", columns=\"loan_status\", fill_value=0, margins=True, aggfunc=np.sum)\n",
    "\n",
    "new_tab1[\"Charged Off\"] = new_tab1.apply(lambda row: round((row[\"Charged Off\"]/row[\"All\"])*100, 2), axis=1)\n",
    "new_tab1[\"Current\"] = new_tab1.apply(lambda row: round((row[\"Current\"]/row[\"All\"])*100, 2), axis=1)\n",
    "\n",
    "new_tab1"
   ]
  }
 ],
 "metadata": {
  "kernelspec": {
   "display_name": "Python 3",
   "language": "python",
   "name": "python3"
  },
  "language_info": {
   "codemirror_mode": {
    "name": "ipython",
    "version": 3
   },
   "file_extension": ".py",
   "mimetype": "text/x-python",
   "name": "python",
   "nbconvert_exporter": "python",
   "pygments_lexer": "ipython3",
   "version": "3.10.12"
  }
 },
 "nbformat": 4,
 "nbformat_minor": 2
}
